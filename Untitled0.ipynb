{
 "metadata": {
  "name": ""
 },
 "nbformat": 3,
 "nbformat_minor": 0,
 "worksheets": [
  {
   "cells": [
    {
     "cell_type": "code",
     "collapsed": false,
     "input": [
      "import pandas as pd\n",
      "import matplotlib.pyplot as plt\n",
      "import numpy as np\n",
      "import pylab as pl\n",
      "import scipy.stats as sp\n",
      "from sklearn.decomposition import PCA\n",
      "from sklearn.cross_validation import KFold\n",
      "from sklearn.neighbors import KNeighborsClassifier\n",
      "from matplotlib.colors import ListedColormap\n",
      "import collections as collect"
     ],
     "language": "python",
     "metadata": {},
     "outputs": [],
     "prompt_number": 1
    },
    {
     "cell_type": "code",
     "collapsed": false,
     "input": [
      "fullData= pd.read_csv(\"http://summit.sfu.ca/system/files/iritems1/13328/SkillCraft1_Dataset.csv\")\n",
      "index = fullData.iloc[:,4].notnull()\n",
      "myData = fullData.loc[index,:]\n",
      "index = myData.iloc[:,1]!=7\n",
      "cleanData = myData.loc[index,:]\n",
      "index= cleanData.iloc[:,3] <= 77\n",
      "cleanData = cleanData.loc[index,:]\n",
      "index= cleanData.iloc[:,4] <= 5000\n",
      "cleanData = cleanData.loc[index,:]\n",
      "predictors = pd.DataFrame(cleanData.iloc[:,2:20])\n",
      "response = cleanData.iloc[:,1]"
     ],
     "language": "python",
     "metadata": {},
     "outputs": [],
     "prompt_number": 2
    },
    {
     "cell_type": "code",
     "collapsed": false,
     "input": [
      "cmap_light = ListedColormap(['red', 'orange', 'khaki', 'LightGreen', 'RoyalBlue', 'plum'])\n",
      "cmap_bold = ListedColormap(['red', 'orange', 'khaki', 'LightGreen', 'RoyalBlue', 'plum'])\n",
      "colBank = ['red', 'orange', 'khaki', 'LightGreen', 'RoyalBlue', 'plum']\n",
      "\n",
      "X=predictors.iloc[:,[3,11]]\n",
      "y=response\n",
      "h=0.2\n",
      "for weights in ['uniform']:\n",
      "    # we create an instance of Neighbours Classifier and fit the data.\n",
      "    clf = KNeighborsClassifier(51, weights=weights)\n",
      "    clf.fit(X, y)\n",
      "\n",
      "    # Plot the decision boundary. For that, we will assign a color to each\n",
      "    # point in the mesh [x_min, m_max]x[y_min, y_max].\n",
      "    x_min, x_max = X.iloc[:, 0].min() - 1, X.iloc[:, 0].max() + 1\n",
      "    y_min, y_max = X.iloc[:, 1].min() - 1, X.iloc[:, 1].max() + 1\n",
      "    xx, yy = np.meshgrid(np.arange(x_min, x_max, h),\n",
      "                         np.arange(y_min, y_max, h))\n",
      "    Z = clf.predict(np.c_[xx.ravel(), yy.ravel()])\n",
      "\n",
      "    # Put the result into a color plot\n",
      "    Z = Z.reshape(xx.shape)\n",
      "    fig, ax = plt.subplots(1)\n",
      "    plt.pcolormesh(xx, yy, Z, cmap=cmap_light)\n",
      "\n",
      "    # Plot also the training points\n",
      "    # plt.scatter(X.iloc[:, 0], X.iloc[:, 1], c=y, cmap=cmap_bold)\n",
      "    for i in range(1,7):\n",
      "        x1New = X.loc[y==i].iloc[:,0]\n",
      "        x2New = X.loc[y==i].iloc[:,1]\n",
      "        ax.scatter(x1New,x2New,label=str(i),color=colBank[i-1],marker=\"8\", alpha=0.5,edgecolor='black')\n",
      "                     \n",
      "    ax.legend()\n",
      "    plt.xlim(xx.min(), xx.max())\n",
      "    plt.ylim(yy.min(), yy.max())\n",
      "    plt.title(\"6-Class classification (k = %i, weights = '%s')\"\n",
      "             % (51, weights))\n",
      "    plt.xlabel('APM')\n",
      "    plt.ylabel('Action Latency')\n",
      "    plt.show()"
     ],
     "language": "python",
     "metadata": {},
     "outputs": [],
     "prompt_number": 57
    },
    {
     "cell_type": "code",
     "collapsed": false,
     "input": [
      "i=2"
     ],
     "language": "python",
     "metadata": {},
     "outputs": [],
     "prompt_number": 42
    },
    {
     "cell_type": "code",
     "collapsed": false,
     "input": [
      "x1New = X.loc[y==i].iloc[:,0]\n",
      "x2New = X.loc[y==i].iloc[:,1]\n",
      "ax.scatter(x1New,x2New,label=str(i),color=colBank[i])\n",
      "plt.show()\n"
     ],
     "language": "python",
     "metadata": {},
     "outputs": [],
     "prompt_number": 45
    },
    {
     "cell_type": "code",
     "collapsed": false,
     "input": [
      "\n",
      "\n",
      "\n",
      "# Set the random seed for consistency\n",
      "np.random.seed(12)\n",
      "\n",
      "fig, ax = plt.subplots(1)\n",
      "\n",
      "# Show the whole color range\n",
      "for i in range(6):\n",
      "    x = np.random.normal(loc=i, size=1000)\n",
      "    y = np.random.normal(loc=i, size=1000)\n",
      "    ax.scatter(x, y, label=str(i), color=colBank[i], alpha=0.5)\n",
      "    \n",
      "plt.show()"
     ],
     "language": "python",
     "metadata": {},
     "outputs": [],
     "prompt_number": 51
    },
    {
     "cell_type": "code",
     "collapsed": false,
     "input": [],
     "language": "python",
     "metadata": {},
     "outputs": []
    }
   ],
   "metadata": {}
  }
 ]
}