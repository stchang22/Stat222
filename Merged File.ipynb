{
 "metadata": {
  "name": ""
 },
 "nbformat": 3,
 "nbformat_minor": 0,
 "worksheets": [
  {
   "cells": [
    {
     "cell_type": "heading",
     "level": 1,
     "metadata": {},
     "source": [
      "PreProcessing"
     ]
    },
    {
     "cell_type": "code",
     "collapsed": false,
     "input": [
      "# We load and clean the data.\n",
      "\n",
      "import pandas as pd\n",
      "from sklearn import tree\n",
      "from sklearn.externals.six import StringIO\n",
      "import os\n",
      "import numpy as np\n",
      "from sklearn import cross_validation\n",
      "import itertools\n",
      "from pylab import *\n",
      "import Image, ImageDraw, ImageFont, ImageOps\n",
      "import matplotlib.pyplot as plt\n",
      "import pylab as pl\n",
      "import scipy.stats as sp\n",
      "from sklearn.decomposition import PCA\n",
      "from sklearn.cross_validation import KFold\n",
      "from sklearn.neighbors import KNeighborsClassifier\n",
      "from matplotlib.colors import ListedColormap\n",
      "import collections as collect\n",
      "fullData= pd.read_csv(\"SkillCraft1_Dataset.csv\")\n",
      "index = fullData.iloc[:,4] != '?'\n",
      "myData = fullData.loc[index,:]\n",
      "index7 = myData.iloc[:,1] != 7\n",
      "myData = myData.loc[index7,:]\n",
      "myData = myData.convert_objects(convert_numeric=True)\n",
      "myData = myData.loc[myData.iloc[:,3] <= 77,:]\n",
      "myData = myData.loc[myData.iloc[:,4] <= 5000,:]\n",
      "set(myData.iloc[:,1])\n",
      "myData\n"
     ],
     "language": "python",
     "metadata": {},
     "outputs": [
      {
       "output_type": "stream",
       "stream": "stderr",
       "text": [
        "/usr/lib/python2.7/dist-packages/pandas/core/config.py:570: DeprecationWarning: height has been deprecated.\n",
        "\n",
        "  warnings.warn(d.msg, DeprecationWarning)\n"
       ]
      },
      {
       "html": [
        "<pre>\n",
        "&lt;class 'pandas.core.frame.DataFrame'&gt;\n",
        "Int64Index: 3286 entries, 0 to 3339\n",
        "Data columns (total 20 columns):\n",
        "GameID                  3286  non-null values\n",
        "LeagueIndex             3286  non-null values\n",
        "Age                     3286  non-null values\n",
        "HoursPerWeek            3286  non-null values\n",
        "TotalHours              3286  non-null values\n",
        "APM                     3286  non-null values\n",
        "SelectByHotkeys         3286  non-null values\n",
        "AssignToHotkeys         3286  non-null values\n",
        "UniqueHotkeys           3286  non-null values\n",
        "MinimapAttacks          3286  non-null values\n",
        "MinimapRightClicks      3286  non-null values\n",
        "NumberOfPACs            3286  non-null values\n",
        "GapBetweenPACs          3286  non-null values\n",
        "ActionLatency           3286  non-null values\n",
        "ActionsInPAC            3286  non-null values\n",
        "TotalMapExplored        3286  non-null values\n",
        "WorkersMade             3286  non-null values\n",
        "UniqueUnitsMade         3286  non-null values\n",
        "ComplexUnitsMade        3286  non-null values\n",
        "ComplexAbilitiesUsed    3286  non-null values\n",
        "dtypes: float64(12), int64(8)\n",
        "</pre>"
       ],
       "metadata": {},
       "output_type": "pyout",
       "prompt_number": 1,
       "text": [
        "<class 'pandas.core.frame.DataFrame'>\n",
        "Int64Index: 3286 entries, 0 to 3339\n",
        "Data columns (total 20 columns):\n",
        "GameID                  3286  non-null values\n",
        "LeagueIndex             3286  non-null values\n",
        "Age                     3286  non-null values\n",
        "HoursPerWeek            3286  non-null values\n",
        "TotalHours              3286  non-null values\n",
        "APM                     3286  non-null values\n",
        "SelectByHotkeys         3286  non-null values\n",
        "AssignToHotkeys         3286  non-null values\n",
        "UniqueHotkeys           3286  non-null values\n",
        "MinimapAttacks          3286  non-null values\n",
        "MinimapRightClicks      3286  non-null values\n",
        "NumberOfPACs            3286  non-null values\n",
        "GapBetweenPACs          3286  non-null values\n",
        "ActionLatency           3286  non-null values\n",
        "ActionsInPAC            3286  non-null values\n",
        "TotalMapExplored        3286  non-null values\n",
        "WorkersMade             3286  non-null values\n",
        "UniqueUnitsMade         3286  non-null values\n",
        "ComplexUnitsMade        3286  non-null values\n",
        "ComplexAbilitiesUsed    3286  non-null values\n",
        "dtypes: float64(12), int64(8)"
       ]
      }
     ],
     "prompt_number": 1
    },
    {
     "cell_type": "code",
     "collapsed": false,
     "input": [
      "# Defining design matrix and response vector\n",
      "League = myData.iloc[:,1]\n",
      "subData = myData.iloc[:,range(2,20)]\n",
      "subData"
     ],
     "language": "python",
     "metadata": {},
     "outputs": [
      {
       "output_type": "stream",
       "stream": "stderr",
       "text": [
        "/usr/lib/python2.7/dist-packages/pandas/core/config.py:570: DeprecationWarning: height has been deprecated.\n",
        "\n",
        "  warnings.warn(d.msg, DeprecationWarning)\n"
       ]
      },
      {
       "html": [
        "<pre>\n",
        "&lt;class 'pandas.core.frame.DataFrame'&gt;\n",
        "Int64Index: 3286 entries, 0 to 3339\n",
        "Data columns (total 18 columns):\n",
        "Age                     3286  non-null values\n",
        "HoursPerWeek            3286  non-null values\n",
        "TotalHours              3286  non-null values\n",
        "APM                     3286  non-null values\n",
        "SelectByHotkeys         3286  non-null values\n",
        "AssignToHotkeys         3286  non-null values\n",
        "UniqueHotkeys           3286  non-null values\n",
        "MinimapAttacks          3286  non-null values\n",
        "MinimapRightClicks      3286  non-null values\n",
        "NumberOfPACs            3286  non-null values\n",
        "GapBetweenPACs          3286  non-null values\n",
        "ActionLatency           3286  non-null values\n",
        "ActionsInPAC            3286  non-null values\n",
        "TotalMapExplored        3286  non-null values\n",
        "WorkersMade             3286  non-null values\n",
        "UniqueUnitsMade         3286  non-null values\n",
        "ComplexUnitsMade        3286  non-null values\n",
        "ComplexAbilitiesUsed    3286  non-null values\n",
        "dtypes: float64(12), int64(6)\n",
        "</pre>"
       ],
       "metadata": {},
       "output_type": "pyout",
       "prompt_number": 2,
       "text": [
        "<class 'pandas.core.frame.DataFrame'>\n",
        "Int64Index: 3286 entries, 0 to 3339\n",
        "Data columns (total 18 columns):\n",
        "Age                     3286  non-null values\n",
        "HoursPerWeek            3286  non-null values\n",
        "TotalHours              3286  non-null values\n",
        "APM                     3286  non-null values\n",
        "SelectByHotkeys         3286  non-null values\n",
        "AssignToHotkeys         3286  non-null values\n",
        "UniqueHotkeys           3286  non-null values\n",
        "MinimapAttacks          3286  non-null values\n",
        "MinimapRightClicks      3286  non-null values\n",
        "NumberOfPACs            3286  non-null values\n",
        "GapBetweenPACs          3286  non-null values\n",
        "ActionLatency           3286  non-null values\n",
        "ActionsInPAC            3286  non-null values\n",
        "TotalMapExplored        3286  non-null values\n",
        "WorkersMade             3286  non-null values\n",
        "UniqueUnitsMade         3286  non-null values\n",
        "ComplexUnitsMade        3286  non-null values\n",
        "ComplexAbilitiesUsed    3286  non-null values\n",
        "dtypes: float64(12), int64(6)"
       ]
      }
     ],
     "prompt_number": 2
    },
    {
     "cell_type": "heading",
     "level": 1,
     "metadata": {},
     "source": [
      "Trees"
     ]
    },
    {
     "cell_type": "code",
     "collapsed": false,
     "input": [
      "# Cross validating for parameters to use to create trees\n",
      "\n",
      "kVals = range(5, 200, 15)\n",
      "lVals = range(5,200,15)\n",
      "finK = {}\n",
      "finScores = {}\n",
      "for a in itertools.combinations(set(League),2):\n",
      "    Ind = (League == a[0]) | (League == a[1])\n",
      "    sData = subData.loc[Ind,:]\n",
      "    sLeague = League.loc[Ind]\n",
      "    features = sData.values\n",
      "    labels = sLeague.values\n",
      "    LOO = cross_validation.KFold(len(labels),10)\n",
      "    scores = []\n",
      "    closeS = []\n",
      "    interScores = np.zeros((13,13))\n",
      "    for k in range(0,13):\n",
      "        for l in range(0,13):\n",
      "         for trainInd, testInd in LOO:\n",
      "             Xtrain, Xtest = features[trainInd], features[testInd]\n",
      "             Ytrain, Ytest = labels[trainInd], labels[testInd]\n",
      "             clf = tree.DecisionTreeClassifier(min_samples_split=kVals[k],min_samples_leaf=lVals[l])\n",
      "             clf = clf.fit(Xtrain, Ytrain)\n",
      "             predVals = clf.predict(Xtest)\n",
      "             correctVals = np.sum(np.abs(predVals-Ytest) <= 1)\n",
      "             closeS.append(float(correctVals)/len(predVals))\n",
      "             scores.append(clf.score(Xtest,Ytest))\n",
      "            \n",
      "         interScores[l,k] = np.mean(scores)\n",
      "            \n",
      "    i,j = np.unravel_index(interScores.argmax(), interScores.shape)    \n",
      "    finK.update({'%dv%d'%(a[0],a[1]):[i,j]})\n",
      "    finScores.update({'%dv%d'%(a[0],a[1]):interScores[i,j]})    \n",
      "        \n",
      "    \n"
     ],
     "language": "python",
     "metadata": {},
     "outputs": [],
     "prompt_number": 3
    },
    {
     "cell_type": "code",
     "collapsed": false,
     "input": [
      "finK"
     ],
     "language": "python",
     "metadata": {},
     "outputs": [
      {
       "metadata": {},
       "output_type": "pyout",
       "prompt_number": 4,
       "text": [
        "{'1v2': [6, 0],\n",
        " '1v3': [7, 0],\n",
        " '1v4': [0, 0],\n",
        " '1v5': [1, 0],\n",
        " '1v6': [0, 0],\n",
        " '2v3': [11, 12],\n",
        " '2v4': [12, 6],\n",
        " '2v5': [0, 0],\n",
        " '2v6': [0, 0],\n",
        " '3v4': [12, 12],\n",
        " '3v5': [3, 0],\n",
        " '3v6': [3, 0],\n",
        " '4v5': [6, 12],\n",
        " '4v6': [1, 0],\n",
        " '5v6': [9, 0]}"
       ]
      }
     ],
     "prompt_number": 4
    },
    {
     "cell_type": "code",
     "collapsed": false,
     "input": [
      "# Creating final trees \n",
      "featImp = {}\n",
      "featImpVals = {}\n",
      "finKK = [v for k,v in finK.items()]\n",
      "finInd = [k for k,v in finK.items()]\n",
      "keep = zip(finInd, finKK)\n",
      "finKS = np.array([e[1] for e in sorted(keep)])\n",
      "k=0\n",
      "capInd=0\n",
      "capBox = ['This tree features a matchup of the two lowest leagues. Note that APM is the first variable ',\n",
      "          'the tree splits on.',\n",
      "          'This tree features a matchup of a low and middle league. We see that APM is still present, but ActionLatency ',\n",
      "          'has become the first variable the tree splits on.',\n",
      "          'This tree features a matchup of a middle and high league. Notice how it is more complicated than the previous two trees. ',\n",
      "          'New variables involve the use of hotkeys.',\n",
      "          'This tree features a matchup of two high leagues. It is not as complicated as the previous tree. ',\n",
      "          'ActionLatency is still the first variable the tree splits on.'\n",
      "          ]\n",
      "for a in itertools.combinations(set(League),2):\n",
      " features = subData.loc[(League == a[0]) | (League == a[1]),:]\n",
      " labels = League.loc[(League == a[0])|(League == a[1])]\n",
      " clf = tree.DecisionTreeClassifier(min_samples_split = kVals[finKS[k][1]], min_samples_leaf = lVals[finKS[k][0]])\n",
      " clf = clf.fit(features.values, labels.values)\n",
      " imps = clf.feature_importances_\n",
      " featImpVals.update({'%dv%d'%(a[0],a[1]):sorted(imps,reverse=True)})\n",
      " ColKeep = zip(imps, subData.columns.values)\n",
      " SortCols = np.array([e[1] for e in sorted(ColKeep, reverse=True)])\n",
      " SortInd = np.array([e[0] for e in sorted(ColKeep, reverse=True)])\n",
      " NoZero = SortInd != 0\n",
      " T = SortCols[NoZero]\n",
      " featImp.update({'%dv%d'%(a[0],a[1]):T})\n",
      " # Plot certain matchups   \n",
      " if ((a[0]==1)&(a[1]==2))|((a[0]==5)&(a[1]==6))|((a[0]==2)&(a[1]==4))|((a[0]==3)&(a[1]==6)):\n",
      "  strC = \"dot -Tpng SCtest.dot -o \" + \"%dv%d.png\"%(a[0], a[1])\n",
      "  with open(\"SCtest.dot\", 'w') as f:\n",
      "    f = tree.export_graphviz(clf, out_file=f,feature_names = subData.columns.values)\n",
      "  \n",
      "  os.system(strC)\n",
      "  os.unlink('SCtest.dot')\n",
      "  fontPath = '/usr/share/fonts/truetype/liberation/LiberationMono-Regular.ttf'\n",
      "  fontP = ImageFont.truetype(fontPath, 40)\n",
      "  fontP1 = ImageFont.truetype(fontPath, 20)\n",
      "  newIM = ImageOps.expand(Image.open('%dv%d.png'%(a[0],a[1])),border=300,fill='white')\n",
      "  draw = ImageDraw.Draw(newIM)\n",
      "  draw.text((newIM.size[0]/2,200),'%dv%d Matchup Tree'%(a[0],a[1]),font=fontP,fill='black')\n",
      "  draw.text((100,newIM.size[1]-newIM.size[1]/8),capBox[capInd],font=fontP1,fill='black')\n",
      "  draw.text((100,newIM.size[1]-newIM.size[1]/9),capBox[capInd+1],font=fontP1,fill='black')\n",
      "  del draw\n",
      "  newIM.save('%dv%dWithTitle.png'%(a[0],a[1]))\n",
      "  close()\n",
      "  capInd = capInd+2\n",
      "    \n",
      " k = k+1\n",
      "       \n",
      "        \n",
      "        \n",
      "        "
     ],
     "language": "python",
     "metadata": {},
     "outputs": [],
     "prompt_number": 5
    },
    {
     "cell_type": "code",
     "collapsed": false,
     "input": [
      "# Creating table of important variables\n",
      "\n",
      "featImpLab = [k for k,v in featImp.items()]\n",
      "featImpVal = [v for k,v in featImp.items()]\n",
      "keepFeatImp = zip(featImpLab, featImpVal)\n",
      "featImpVars = [v[1][:3] for v in sorted(keepFeatImp)]\n",
      "featImpMatchs = [v[0] for v in sorted(keepFeatImp)]               \n",
      "\n",
      "ax = subplot(111,frame_on=False)\n",
      "ax.xaxis.set_visible(False)\n",
      "ax.yaxis.set_visible(False)\n",
      "table(cellText = featImpVars, rowLabels = featImpMatchs, loc='upper center')\n",
      "title('Important Variables for Each Matchup')\n",
      "figtext(0.1,0.2,'Table 1.  Variables are arranged so that importance decreases from left to right.\\n'+\n",
      "        'We see that in the lower leagues, APM is deemed most important.  As we go up\\n'+\n",
      "        'to higher leagues, ActionLatency becomes more important.  This makes intuitive\\n sense '+\n",
      "        'because lower players are still learning the mechanics of the game while\\n at the '+\n",
      "        'higher levels, players have more or less the same level of mechanics; it is\\n more a question '+\n",
      "        'of reflex times and map awareness that make an impact.')\n",
      "savefig('TreeTable.png')\n",
      "close()"
     ],
     "language": "python",
     "metadata": {},
     "outputs": [],
     "prompt_number": 7
    },
    {
     "cell_type": "heading",
     "level": 1,
     "metadata": {},
     "source": [
      "K Nearest Neighbors"
     ]
    },
    {
     "cell_type": "code",
     "collapsed": false,
     "input": [
      "predictors = subData\n",
      "response = League"
     ],
     "language": "python",
     "metadata": {},
     "outputs": [],
     "prompt_number": 1
    },
    {
     "cell_type": "code",
     "collapsed": false,
     "input": [
      "# Histogram of true distribution\n",
      "hist, bins = np.histogram(response, bins=6)\n",
      "hist=[.30, .33, .20, .08, .075, .015]\n",
      "width = 1\n",
      "center = range(1,7)\n",
      "hT = plt.bar(center, hist, align='center', width=width)\n",
      "plt.title('True Distribution of League')\n",
      "plt.savefig('True Distribution of League.jpg')"
     ],
     "language": "python",
     "metadata": {},
     "outputs": []
    },
    {
     "cell_type": "code",
     "collapsed": false,
     "input": [
      "# Histogram of observed distribution\n",
      "hist, bins = np.histogram(response, bins=6)\n",
      "width = 1\n",
      "center = range(1,7)\n",
      "hT = plt.bar(center, (hist/float(3286)), align='center', width=width)\n",
      "plt.title('Histogram of Player Leagues')\n",
      "plt.savefig('Histogram of League.jpg')"
     ],
     "language": "python",
     "metadata": {},
     "outputs": []
    },
    {
     "cell_type": "code",
     "collapsed": false,
     "input": [
      "# KNN \n",
      "cmap_light = ListedColormap(['red', 'orange', 'khaki', 'LimeGreen', 'RoyalBlue', 'orchid'])\n",
      "cmap_bold = ListedColormap(['red', 'orange', 'khaki', 'LimeGreen', 'RoyalBlue', 'orchid'])\n",
      "colBank = ['red', 'orange', 'khaki', 'LimeGreen', 'RoyalBlue', 'orchid']\n",
      "\n",
      "X=predictors.iloc[:,[10,11]]\n",
      "y=response\n",
      "h=0.2\n",
      "for weights in ['uniform']:\n",
      "    # we create an instance of Neighbours Classifier and fit the data.\n",
      "    clf = KNeighborsClassifier(50, weights=weights)\n",
      "    clf.fit(X, y)\n",
      "\n",
      "    # Plot the decision boundary. For that, we will assign a color to each\n",
      "    # point in the mesh [x_min, m_max]x[y_min, y_max].\n",
      "    x_min, x_max = X.iloc[:, 0].min() - 1, X.iloc[:, 0].max() + 1\n",
      "    y_min, y_max = X.iloc[:, 1].min() - 1, X.iloc[:, 1].max() + 1\n",
      "    xx, yy = np.meshgrid(np.arange(x_min, x_max, h),\n",
      "                         np.arange(y_min, y_max, h))\n",
      "    Z = clf.predict(np.c_[xx.ravel(), yy.ravel()])\n",
      "\n",
      "    # Put the result into a color plot\n",
      "    Z = Z.reshape(xx.shape)\n",
      "    fig, ax = plt.subplots(1)\n",
      "    plt.pcolormesh(xx, yy, Z, cmap=cmap_light)\n",
      "\n",
      "    # Plot also the training points\n",
      "    # plt.scatter(X.iloc[:, 0], X.iloc[:, 1], c=y, cmap=cmap_bold)\n",
      "    for i in range(1,7):\n",
      "        x1New = X.loc[y==i].iloc[:,0]\n",
      "        x2New = X.loc[y==i].iloc[:,1]\n",
      "        ax.scatter(x1New,x2New,label=str(i),color=colBank[i-1],marker=\"8\", alpha=0.5,edgecolor='black')\n",
      "                     \n",
      "    ax.legend()\n",
      "    plt.xlim(xx.min(), xx.max())\n",
      "    plt.ylim(yy.min(), yy.max())\n",
      "    plt.title(\"6-Class classification (k = %i, weights = '%s')\"\n",
      "             % (50, weights))\n",
      "    plt.xlabel('Gap in PAC',size='x-small')\n",
      "    plt.ylabel('Action Latency')\n",
      "    plt.figtext(.3,0,'Clear upward trend but many misclassifications') \n",
      "    pl.savefig('sixClasses.jpg',bbox_inches='tight')"
     ],
     "language": "python",
     "metadata": {},
     "outputs": []
    },
    {
     "cell_type": "code",
     "collapsed": false,
     "input": [
      "predictors = subData\n",
      "response = League"
     ],
     "language": "python",
     "metadata": {},
     "outputs": []
    },
    {
     "cell_type": "code",
     "collapsed": false,
     "input": [
      "predictors = predictors.loc[response!=2,:]\n",
      "response = response.loc[response!=2]\n",
      "predictors = predictors.loc[response!=3,:]\n",
      "response = response.loc[response!=3]\n",
      "predictors = predictors.loc[response!=5,:]\n",
      "response = response.loc[response!=5]"
     ],
     "language": "python",
     "metadata": {},
     "outputs": []
    },
    {
     "cell_type": "code",
     "collapsed": false,
     "input": [
      "cmap_light = ListedColormap(['red', 'orange', 'khaki', 'LimeGreen', 'RoyalBlue', 'orchid'])\n",
      "cmap_bold = ListedColormap(['red', 'orange', 'khaki', 'LimeGreen', 'RoyalBlue', 'orchid'])\n",
      "colBank = ['red', 'orange', 'khaki', 'LimeGreen', 'RoyalBlue', 'orchid']\n",
      "\n",
      "\n",
      "# KNN for only three classes\n",
      "X=predictors.iloc[:,[10,11]]\n",
      "y=response\n",
      "h=0.2\n",
      "for weights in ['uniform']:\n",
      "    # we create an instance of Neighbours Classifier and fit the data.\n",
      "    clf = KNeighborsClassifier(20, weights=weights)\n",
      "    clf.fit(X, y)\n",
      "\n",
      "    # Plot the decision boundary. For that, we will assign a color to each\n",
      "    # point in the mesh [x_min, m_max]x[y_min, y_max].\n",
      "    x_min, x_max = X.iloc[:, 0].min() - 1, X.iloc[:, 0].max() + 1\n",
      "    y_min, y_max = X.iloc[:, 1].min() - 1, X.iloc[:, 1].max() + 1\n",
      "    xx, yy = np.meshgrid(np.arange(x_min, x_max, h),\n",
      "                         np.arange(y_min, y_max, h))\n",
      "    Z = clf.predict(np.c_[xx.ravel(), yy.ravel()])\n",
      "\n",
      "    # Put the result into a color plot\n",
      "    Z = Z.reshape(xx.shape)\n",
      "    fig, ax = plt.subplots(1)\n",
      "    plt.pcolormesh(xx, yy, Z, cmap=cmap_light)\n",
      "\n",
      "    # Plot also the training points\n",
      "    # plt.scatter(X.iloc[:, 0], X.iloc[:, 1], c=y, cmap=cmap_bold)\n",
      "    for i in range(1,7):\n",
      "        x1New = X.loc[y==i].iloc[:,0]\n",
      "        x2New = X.loc[y==i].iloc[:,1]\n",
      "        ax.scatter(x1New,x2New,label=str(i),color=colBank[i-1],marker=\"8\", alpha=0.5,edgecolor='black')\n",
      "                     \n",
      "    ax.legend()\n",
      "    plt.xlim(xx.min(), xx.max())\n",
      "    plt.ylim(yy.min(), yy.max())\n",
      "    plt.title(\"3-Class classification (k = %i, weights = '%s')\"\n",
      "             % (20, weights))\n",
      "    plt.xlabel('Gap in PAC')\n",
      "    plt.ylabel('Action Latency')\n",
      "    plt.figtext(.1,0,'subset only 3 classes, much more stable classification boundaries')\n",
      "    pl.savefig('threeClasses.jpg',bbox_inches='tight')"
     ],
     "language": "python",
     "metadata": {},
     "outputs": []
    },
    {
     "cell_type": "code",
     "collapsed": false,
     "input": [
      "predictors=subData\n",
      "response=League"
     ],
     "language": "python",
     "metadata": {},
     "outputs": []
    },
    {
     "cell_type": "code",
     "collapsed": false,
     "input": [
      "predictors = predictors.iloc[:,[2,3,5,7,11]]"
     ],
     "language": "python",
     "metadata": {},
     "outputs": []
    },
    {
     "cell_type": "code",
     "collapsed": false,
     "input": [
      "def KNN(k):\n",
      "    \"\"\"k nearest neighbors\"\"\"\n",
      "    scores = []\n",
      "    closeScores = []\n",
      "    for train, test in kf:\n",
      "        trainingSet = predictors.iloc[train,:]\n",
      "        trainingSetY = response.iloc[train]\n",
      "        testSet = predictors.iloc[test,:]\n",
      "        testSetY = response.iloc[test]\n",
      "        neigh = KNeighborsClassifier(n_neighbors=k)\n",
      "        neigh.fit(trainingSet, trainingSetY) \n",
      "        predictedValues = KNeighborsClassifier.predict(neigh,testSet)\n",
      "        correct = sum(abs(predictedValues - testSetY) <= 1) \n",
      "        closeScores.append(float(correct) / len(testSetY))\n",
      "        scores.append(KNeighborsClassifier.score(neigh,testSet, testSetY))\n",
      "    return (np.mean(scores))"
     ],
     "language": "python",
     "metadata": {},
     "outputs": []
    },
    {
     "cell_type": "code",
     "collapsed": false,
     "input": [
      "kf = KFold(len(response), n_folds=10, indices=False)\n",
      "knnPred=[]\n",
      "for k in range(1,250):\n",
      "    knnPred.append(KNN(k))"
     ],
     "language": "python",
     "metadata": {},
     "outputs": []
    },
    {
     "cell_type": "code",
     "collapsed": false,
     "input": [
      "knnPred.index(max(knnPred))"
     ],
     "language": "python",
     "metadata": {},
     "outputs": []
    },
    {
     "cell_type": "code",
     "collapsed": false,
     "input": [
      "neigh = KNeighborsClassifier(n_neighbors=knnPred.index(max(knnPred)))\n",
      "neigh.fit(predictors, response) \n",
      "predictedValues = KNeighborsClassifier.predict(neigh,predictors)"
     ],
     "language": "python",
     "metadata": {},
     "outputs": []
    },
    {
     "cell_type": "code",
     "collapsed": false,
     "input": [
      "predictedValues"
     ],
     "language": "python",
     "metadata": {},
     "outputs": []
    },
    {
     "cell_type": "code",
     "collapsed": false,
     "input": [
      "response"
     ],
     "language": "python",
     "metadata": {},
     "outputs": []
    },
    {
     "cell_type": "code",
     "collapsed": false,
     "input": [
      "z=zip(response,predictedValues)\n",
      "sz=sorted(collect.Counter(z).items())\n",
      "sz.append(((1,5), 0))\n",
      "sz.append(((5,1), 0))\n",
      "sz.append(((6,1), 0))\n",
      "sz.append(((6,2), 0))\n",
      "sz=sorted(sz)\n",
      "testVals=['%.1f'%(float(x[1])*100/3286) for x in sz]\n",
      "keys = [x[0] for x in sz]\n",
      "sz=zip(keys,testVals)\n",
      "sz"
     ],
     "language": "python",
     "metadata": {},
     "outputs": []
    },
    {
     "cell_type": "code",
     "collapsed": false,
     "input": [
      "# Create table of prediction success rate\n",
      "tabVals=[]\n",
      "for i in range(1,7):\n",
      "     tabVals.append([x[1] for x in sz[6*(i-1):(6*i)]])\n",
      "        \n",
      "tabVals"
     ],
     "language": "python",
     "metadata": {},
     "outputs": []
    },
    {
     "cell_type": "code",
     "collapsed": false,
     "input": [
      "ax = pl.subplot(111,frame_on=False)\n",
      "ax.xaxis.set_visible(False)\n",
      "ax.yaxis.set_visible(False)\n",
      "theTable = pl.table(cellText=tabVals, rowLabels=['y=%d'%(i) for i in range(1,7)], colLabels=['yhat=%d'%(i) for i in range(1,7)],loc='upper center', colWidths=[0.1]*6)\n",
      "pl.title('KNN table')\n",
      "theTable.scale(1.8,1.8)\n",
      "theTable.set_fontsize(20)\n",
      "pl.savefig('KNNTable.jpg')"
     ],
     "language": "python",
     "metadata": {},
     "outputs": []
    }
   ],
   "metadata": {}
  }
 ]
}