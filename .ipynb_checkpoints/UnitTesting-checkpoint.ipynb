{
 "metadata": {
  "name": ""
 },
 "nbformat": 3,
 "nbformat_minor": 0,
 "worksheets": [
  {
   "cells": [
    {
     "cell_type": "code",
     "collapsed": false,
     "input": [
      "%%file unitTesting.py\n",
      "\n",
      "from sklearn import tree\n",
      "import pandas as pd\n",
      "\n",
      "# Testing to make sure tree classifier behaves properly\n",
      "def test_tree1():\n",
      "    junk = [{'x':1,'y':1},{'x':2,'y':1},{'x':1,'y':2},{'x':10,'y':50},{'x':12,'y':52},{'x':11,'y':51}]\n",
      "    junkLab = [{'z':1},{'z':1},{'z':1},{'z':2},{'z':2},{'z':2}]\n",
      "    junkT = [{'x':0,'y':0}]\n",
      "    junkTLab = [{'z':1}]\n",
      "    trainDat = pd.DataFrame(junk)\n",
      "    trainLab = pd.DataFrame(junkLab)\n",
      "    testDat = pd.DataFrame(junkT)\n",
      "    testLab = pd.DataFrame(junkTLab)\n",
      "    clf = tree.DecisionTreeClassifier()\n",
      "    clf = clf.fit(trainDat,trainLab)\n",
      "    assert clf.predict(testDat) == 1, clf.predict(testDat)\n",
      "    \n",
      "    \n",
      "# Testing to make sure tree classifier behaves properly\n",
      "def test_tree2():\n",
      "    junk = [{'x':1,'y':1},{'x':2,'y':1},{'x':1,'y':2},{'x':10,'y':50},{'x':12,'y':52},{'x':11,'y':51}]\n",
      "    junkLab = [{'z':1},{'z':1},{'z':1},{'z':2},{'z':2},{'z':2}]\n",
      "    junkT = [{'x':100,'y':80}]\n",
      "    junkTLab = [{'z':1}]\n",
      "    trainDat = pd.DataFrame(junk)\n",
      "    trainLab = pd.DataFrame(junkLab)\n",
      "    testDat = pd.DataFrame(junkT)\n",
      "    testLab = pd.DataFrame(junkTLab)\n",
      "    clf = tree.DecisionTreeClassifier()\n",
      "    clf = clf.fit(trainDat,trainLab)\n",
      "    assert clf.predict(testDat) == 2, clf.predict(testDat)"
     ],
     "language": "python",
     "metadata": {},
     "outputs": [
      {
       "output_type": "stream",
       "stream": "stdout",
       "text": [
        "Overwriting unitTesting.py\n"
       ]
      }
     ],
     "prompt_number": 3
    }
   ],
   "metadata": {}
  }
 ]
}